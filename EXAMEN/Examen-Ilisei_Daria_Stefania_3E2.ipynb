{
  "nbformat": 4,
  "nbformat_minor": 0,
  "metadata": {
    "colab": {
      "provenance": []
    },
    "kernelspec": {
      "name": "python3",
      "display_name": "Python 3"
    },
    "language_info": {
      "name": "python"
    }
  },
  "cells": [
    {
      "cell_type": "markdown",
      "source": [
        "Subiectul 1"
      ],
      "metadata": {
        "id": "KgeKE5AZzx12"
      }
    },
    {
      "cell_type": "code",
      "execution_count": null,
      "metadata": {
        "collapsed": true,
        "id": "HlTLF_Btvqhg"
      },
      "outputs": [],
      "source": [
        "#a\n",
        "import pandas as pd\n",
        "import pymc as pm\n",
        "import numpy as np\n",
        "import arviz as az\n",
        "\n",
        "data = pd.read_csv(\"/content/sample_data/date_alegeri_turul2.csv\")\n",
        "\n",
        "age = data['Varsta'].values\n",
        "gender = data['Sex'].values\n",
        "education = data['Educatie'].values\n",
        "income = data['Venit'].values\n",
        "vote = data['Vot'].values\n",
        "\n",
        "with pm.Model() as model:\n",
        "    beta_age = pm.Normal('beta_age', mu=0, sigma=10)\n",
        "    beta_gender = pm.Normal('beta_gender', mu=0, sigma=10)\n",
        "    beta_education = pm.Normal('beta_education', mu=0, sigma=10)\n",
        "    beta_income = pm.Normal('beta_income', mu=0, sigma=10)\n",
        "    intercept = pm.Normal('intercept', mu=0, sigma=10)\n",
        "\n",
        "    logits = (\n",
        "        beta_age * age +\n",
        "        beta_gender * gender +\n",
        "        beta_education * education +\n",
        "        beta_income * income +\n",
        "        intercept\n",
        "    )\n",
        "\n",
        "    p = pm.math.sigmoid(logits)\n",
        "    likelihood = pm.Bernoulli('likelihood', p=p, observed=vote)\n",
        "\n",
        "    trace = pm.sample(1000, tune=1000, return_inferencedata=True)\n",
        "\n",
        "#b Variabilele cu cele mai mari valori absolute ale coeficienților (beta_*) sunt cele mai importante, deci influențează cel mai mult rezultatul.\n",
        "az.plot_posterior(trace, var_names=[\"beta_age\", \"beta_gender\", \"beta_education\", \"beta_income\"], hdi_prob=0.94)\n",
        "\n",
        "#c\n",
        "with pm.Model() as reduced_model:\n",
        "    beta_age = pm.Normal('beta_age', mu=0, sigma=10)\n",
        "    beta_income = pm.Normal('beta_income', mu=0, sigma=10)\n",
        "    intercept = pm.Normal('intercept', mu=0, sigma=10)\n",
        "\n",
        "    logits = beta_age * age + beta_income * income + intercept\n",
        "    p = pm.math.sigmoid(logits)\n",
        "    likelihood = pm.Bernoulli('likelihood', p=p, observed=vote)\n",
        "\n",
        "    trace_reduced = pm.sample(1000, tune=1000, return_inferencedata=True)\n",
        "    posterior_predictive = pm.sample_posterior_predictive(trace)\n",
        "\n",
        "az.plot_posterior(trace_reduced, hdi_prob=0.94)"
      ]
    },
    {
      "cell_type": "code",
      "source": [
        "#d\n",
        "waic_full = az.waic(trace)\n",
        "waic_reduced = az.waic(trace_reduced)\n",
        "\n",
        "loo_full = az.loo(trace)\n",
        "loo_reduced = az.loo(trace_reduced)\n",
        "\n",
        "print(\"WAIC pt modelul complet:\", waic_full)\n",
        "print(\"WAIC pt modelul redus:\", waic_reduced)\n",
        "\n",
        "print(\"LOO pt modelul complet:\", loo_full)\n",
        "print(\"LOO pt modelul redus:\", loo_reduced)"
      ],
      "metadata": {
        "id": "cVKEEBvKAhBN"
      },
      "execution_count": null,
      "outputs": []
    },
    {
      "cell_type": "markdown",
      "source": [
        "Subiectul 2"
      ],
      "metadata": {
        "id": "2COYmTVEz0LG"
      }
    },
    {
      "cell_type": "code",
      "source": [
        "#a\n",
        "import pandas as pd\n",
        "\n",
        "df = pd.read_csv('/content/sample_data/iris.csv')\n",
        "\n",
        "print(df.head())\n",
        "print(df.info())\n",
        "\n",
        "df['species'] = df['species'].astype('category').cat.codes\n",
        "\n",
        "X = df[['sepal_length', 'sepal_width', 'petal_length', 'petal_width']]\n",
        "y = df['species']\n",
        "\n",
        "import pymc as pm\n",
        "import numpy as np\n",
        "import arviz as az\n",
        "import matplotlib.pyplot as plt\n",
        "\n",
        "with pm.Model() as model:\n",
        "    n_groups = 3\n",
        "\n",
        "    mu = pm.Normal('mu', mu=0, shape=(n_groups, X.shape[1]))\n",
        "    sigma = pm.HalfNormal('sigma', shape=(n_groups, X.shape[1]))\n",
        "\n",
        "    group = pm.Categorical('group', p=[1/n_groups] * n_groups, shape=len(X))\n",
        "\n",
        "    Y_obs = pm.Normal('Y_obs', mu=mu[group], observed=X.values)\n",
        "\n",
        "    trace = pm.sample(1000, return_inferencedata=False)\n",
        "az.plot_trace(trace)\n",
        "plt.show()\n",
        "\n",
        "summary = pm.summary(trace)\n",
        "print(summary)\n",
        "\n",
        "#b\n",
        "#Pentru a evalua ce caracteristică separă cel mai bine datele, trebuie analizată importanța acestora pe baza distribuției posteriori a coeficientilor modelului.\n",
        "#Pot utiliza medii și intervale de încredere pentru fiecare caracteristică și analizez care caracteristică are cel mai mare impact asupra separării speciilor.\n",
        "\n",
        "#Pe baza analizei distribuțiilor coeficientilor (medii și intervale de încredere), putem observa care caracteristică (sepal_length, sepal_width, petal_length, petal_width) contribuie cel mai mult la separarea speciilor. De exemplu, dacă petal_length are un coeficient cu o distribuție clar diferențiată față de celelalte, acest lucru sugerează că această caracteristică este cel mai important factor în clasificarea speciilor."
      ],
      "metadata": {
        "id": "7aD9hUNlz12O"
      },
      "execution_count": null,
      "outputs": []
    },
    {
      "cell_type": "code",
      "source": [
        "!pip install --upgrade arviz"
      ],
      "metadata": {
        "colab": {
          "base_uri": "https://localhost:8080/"
        },
        "id": "Rfkn50p4-0mA",
        "outputId": "6e87a37f-2a8b-407f-8386-9f8fa21746f6"
      },
      "execution_count": 20,
      "outputs": [
        {
          "output_type": "stream",
          "name": "stdout",
          "text": [
            "Requirement already satisfied: arviz in /usr/local/lib/python3.11/dist-packages (0.20.0)\n",
            "Requirement already satisfied: setuptools>=60.0.0 in /usr/local/lib/python3.11/dist-packages (from arviz) (75.1.0)\n",
            "Requirement already satisfied: matplotlib>=3.5 in /usr/local/lib/python3.11/dist-packages (from arviz) (3.10.0)\n",
            "Requirement already satisfied: numpy>=1.23.0 in /usr/local/lib/python3.11/dist-packages (from arviz) (1.26.4)\n",
            "Requirement already satisfied: scipy>=1.9.0 in /usr/local/lib/python3.11/dist-packages (from arviz) (1.13.1)\n",
            "Requirement already satisfied: packaging in /usr/local/lib/python3.11/dist-packages (from arviz) (24.2)\n",
            "Requirement already satisfied: pandas>=1.5.0 in /usr/local/lib/python3.11/dist-packages (from arviz) (2.2.2)\n",
            "Requirement already satisfied: xarray>=2022.6.0 in /usr/local/lib/python3.11/dist-packages (from arviz) (2025.1.1)\n",
            "Requirement already satisfied: h5netcdf>=1.0.2 in /usr/local/lib/python3.11/dist-packages (from arviz) (1.4.1)\n",
            "Requirement already satisfied: typing-extensions>=4.1.0 in /usr/local/lib/python3.11/dist-packages (from arviz) (4.12.2)\n",
            "Requirement already satisfied: xarray-einstats>=0.3 in /usr/local/lib/python3.11/dist-packages (from arviz) (0.8.0)\n",
            "Requirement already satisfied: h5py in /usr/local/lib/python3.11/dist-packages (from h5netcdf>=1.0.2->arviz) (3.12.1)\n",
            "Requirement already satisfied: contourpy>=1.0.1 in /usr/local/lib/python3.11/dist-packages (from matplotlib>=3.5->arviz) (1.3.1)\n",
            "Requirement already satisfied: cycler>=0.10 in /usr/local/lib/python3.11/dist-packages (from matplotlib>=3.5->arviz) (0.12.1)\n",
            "Requirement already satisfied: fonttools>=4.22.0 in /usr/local/lib/python3.11/dist-packages (from matplotlib>=3.5->arviz) (4.55.4)\n",
            "Requirement already satisfied: kiwisolver>=1.3.1 in /usr/local/lib/python3.11/dist-packages (from matplotlib>=3.5->arviz) (1.4.8)\n",
            "Requirement already satisfied: pillow>=8 in /usr/local/lib/python3.11/dist-packages (from matplotlib>=3.5->arviz) (11.1.0)\n",
            "Requirement already satisfied: pyparsing>=2.3.1 in /usr/local/lib/python3.11/dist-packages (from matplotlib>=3.5->arviz) (3.2.1)\n",
            "Requirement already satisfied: python-dateutil>=2.7 in /usr/local/lib/python3.11/dist-packages (from matplotlib>=3.5->arviz) (2.8.2)\n",
            "Requirement already satisfied: pytz>=2020.1 in /usr/local/lib/python3.11/dist-packages (from pandas>=1.5.0->arviz) (2024.2)\n",
            "Requirement already satisfied: tzdata>=2022.7 in /usr/local/lib/python3.11/dist-packages (from pandas>=1.5.0->arviz) (2025.1)\n",
            "Requirement already satisfied: six>=1.5 in /usr/local/lib/python3.11/dist-packages (from python-dateutil>=2.7->matplotlib>=3.5->arviz) (1.17.0)\n"
          ]
        }
      ]
    }
  ]
}