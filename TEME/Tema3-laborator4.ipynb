{
  "nbformat": 4,
  "nbformat_minor": 0,
  "metadata": {
    "colab": {
      "provenance": []
    },
    "kernelspec": {
      "name": "python3",
      "display_name": "Python 3"
    },
    "language_info": {
      "name": "python"
    }
  },
  "cells": [
    {
      "cell_type": "markdown",
      "source": [
        "#1."
      ],
      "metadata": {
        "id": "HR6lSsGB_brf"
      }
    },
    {
      "cell_type": "markdown",
      "source": [
        "Dorim sa aratam ca daca A,B si C sunt variabile aleatoare discrete, atunci $A \\perp C \\mid B$ are loc daca si numai daca exista doua functii pozitive $\\phi_{A,B}$, $\\phi_{B,C}$ si o constanta de normalizare $k > 0$ astfel incat:\n",
        "\n",
        "$$\n",
        "P(A = x_A, B = x_B, C = x_C) = \\frac{1}{k} \\phi_{A,B}(x_A, x_B) \\phi_{B,C}(x_B, x_C), \\quad \\forall x_A, x_B, x_C.\n",
        "$$\n",
        "\n",
        "---\n",
        "\n",
        "#### Pasul 1: Independenta conditionata $A \\perp C \\mid B$\n",
        "\n",
        "Independenta conditionata $A \\perp C \\mid B$ implica faptul ca distributia comuna $P(A, C \\mid B)$ poate fi descompusa in produsul probabilitatilor marginale conditionate:\n",
        "\n",
        "$$\n",
        "P(A = x_A, C = x_C \\mid B = x_B) = P(A = x_A \\mid B = x_B) P(C = x_C \\mid B = x_B), \\quad \\forall x_A, x_B, x_C.\n",
        "$$\n",
        "\n",
        "Din definitia probabilitatii conditionate, avem:\n",
        "\n",
        "$$\n",
        "P(A = x_A, C = x_C \\mid B = x_B) = \\frac{P(A = x_A, B = x_B, C = x_C)}{P(B = x_B)}.\n",
        "$$\n",
        "\n",
        "---\n",
        "\n",
        "#### Pasul 2: Formularea cu functii pozitive si normalizare\n",
        "\n",
        "Pp ca exista functiile pozitive $\\phi_{A,B}$ si $\\phi_{B,C}$ astfel incat:\n",
        "\n",
        "$$\n",
        "P(A = x_A, B = x_B, C = x_C) = \\frac{1}{k} \\phi_{A,B}(x_A, x_B) \\phi_{B,C}(x_B, x_C), \\quad \\forall x_A, x_B, x_C.\n",
        "$$\n",
        "\n",
        "Pentru a verifica aceasta forma, trebuie sa demonstram ca se respecta urmatoarele proprietati:\n",
        "\n",
        "1. **Distributia e pozitiva**:\n",
        "   $$P(A = x_A, B = x_B, C = x_C) > 0, \\quad \\forall x_A, x_B, x_C.$$\n",
        "\n",
        "2. **Normalizarea**:\n",
        "   $$\\sum_{x_A, x_B, x_C} P(A = x_A, B = x_B, C = x_C) = 1.$$\n",
        "\n",
        "---\n",
        "\n",
        "#### Pasul 3: Derivarea legaturii dintre $P$ si functiile $\\phi$\n",
        "\n",
        "1. Pornim de la forma propusa:\n",
        "   $$\n",
        "   P(A = x_A, B = x_B, C = x_C) = \\frac{1}{k} \\phi_{A,B}(x_A, x_B) \\phi_{B,C}(x_B, x_C).\n",
        "   $$\n",
        "\n",
        "2. Calculam probabilitatea marginala $P(B = x_B)$:\n",
        "   $$\n",
        "   P(B = x_B) = \\sum_{x_A, x_C} P(A = x_A, B = x_B, C = x_C).\n",
        "   $$\n",
        "   Substituind:\n",
        "   $$\n",
        "   P(B = x_B) = \\frac{1}{k} \\sum_{x_A, x_C} \\phi_{A,B}(x_A, x_B) \\phi_{B,C}(x_B, x_C).\n",
        "   $$\n",
        "\n",
        "3. Verificam independenta conditionata $A \\perp C \\mid B$:\n",
        "   $$\n",
        "   P(A = x_A, C = x_C \\mid B = x_B) = \\frac{P(A = x_A, B = x_B, C = x_C)}{P(B = x_B)}.\n",
        "   $$\n",
        "   Substituind expresiile:\n",
        "   $$\n",
        "   P(A = x_A, C = x_C \\mid B = x_B) = \\frac{\\phi_{A,B}(x_A, x_B) \\phi_{B,C}(x_B, x_C)}{\\sum_{x_A, x_C} \\phi_{A,B}(x_A, x_B) \\phi_{B,C}(x_B, x_C)}.\n",
        "   $$\n",
        "\n",
        "4. Factorizam termenii:\n",
        "   $$\n",
        "   P(A = x_A \\mid B = x_B) = \\frac{\\phi_{A,B}(x_A, x_B)}{\\sum_{x_A} \\phi_{A,B}(x_A, x_B)},\n",
        "   $$\n",
        "   $$\n",
        "   P(C = x_C \\mid B = x_B) = \\frac{\\phi_{B,C}(x_B, x_C)}{\\sum_{x_C} \\phi_{B,C}(x_B, x_C)}.\n",
        "   $$\n",
        "\n",
        "Aceasta factorizare arata ca $P(A = x_A, C = x_C \\mid B = x_B)$ poate fi exprimata ca produsul probabilitatilor marginale conditionate, ceea ce demonstreaza ca $A \\perp C \\mid B$."
      ],
      "metadata": {
        "id": "JvYl5liE_jLc"
      }
    },
    {
      "cell_type": "markdown",
      "source": [
        "#2.\n"
      ],
      "metadata": {
        "id": "1D4D_Y8b9zPT"
      }
    },
    {
      "cell_type": "code",
      "execution_count": null,
      "metadata": {
        "id": "p-IWjrUR-075"
      },
      "outputs": [],
      "source": [
        "!pip install pgmpy"
      ]
    },
    {
      "cell_type": "code",
      "source": [
        "from pgmpy.models import MarkovNetwork\n",
        "from pgmpy.factors.discrete import DiscreteFactor\n",
        "from pgmpy.inference import BeliefPropagation\n",
        "\n",
        "def retea_markoviana(nr_statii, muchii, prob_initiale):\n",
        "    model = MarkovNetwork()\n",
        "\n",
        "    for i in range(nr_statii):\n",
        "        model.add_node(f'S{i+1}')\n",
        "    model.add_edges_from(muchii)\n",
        "\n",
        "    potential_matrice = [[0.7, 0.2, 0.1],\n",
        "                         [0.2, 0.6, 0.2],\n",
        "                         [0.1, 0.3, 0.6]]\n",
        "\n",
        "    for m in muchii:\n",
        "        factor = DiscreteFactor(\n",
        "            variables=m,\n",
        "            cardinality=[3, 3],\n",
        "            values=potential_matrice\n",
        "        )\n",
        "        model.add_factors(factor)\n",
        "\n",
        "    return model\n",
        "\n",
        "nr_statii = 4\n",
        "muchii = [('S1', 'S2'), ('S2', 'S3'), ('S3', 'S4')]\n",
        "prob_initiale = {\n",
        "    'S1': [0.5, 0.3, 0.2],\n",
        "    'S2': [0.4, 0.4, 0.2],\n",
        "    'S3': [0.6, 0.2, 0.2],\n",
        "    'S4': [0.3, 0.3, 0.4]\n",
        "}\n",
        "\n",
        "retea = retea_markoviana(nr_statii, muchii, prob_initiale)\n",
        "\n",
        "inf = BeliefPropagation(retea)\n",
        "rez_map = inf.map_query()\n",
        "\n",
        "print(rez_map)"
      ],
      "metadata": {
        "id": "x36565Ln93Pz"
      },
      "execution_count": null,
      "outputs": []
    },
    {
      "cell_type": "markdown",
      "source": [
        "#3.\n"
      ],
      "metadata": {
        "id": "9XSXsavs-b8A"
      }
    },
    {
      "cell_type": "code",
      "source": [
        "#a\n",
        "import numpy as np\n",
        "import matplotlib.pyplot as plt\n",
        "\n",
        "img_originala = np.random.randint(0, 256, (5, 5))\n",
        "\n",
        "plt.imshow(img_originala, cmap='gray')\n",
        "plt.title('Imagine Originala')\n",
        "plt.show()"
      ],
      "metadata": {
        "id": "CLPLfdvK-dJg"
      },
      "execution_count": null,
      "outputs": []
    },
    {
      "cell_type": "code",
      "source": [
        "# b add_noise\n",
        "def add_noise(imagine, procent_zgomot=0.1):\n",
        "\n",
        "    img_noise = imagine.copy()\n",
        "    nr_pixeli = imagine.size\n",
        "    nr_pixeli_zgomotosi = int(procent_zgomot * nr_pixeli)\n",
        "\n",
        "    pixeli_alesi = np.random.choice(nr_pixeli, nr_pixeli_zgomotosi, replace=False)\n",
        "\n",
        "    for pixel in pixeli_alesi:\n",
        "        i, j = np.unravel_index(pixel, imagine.shape)\n",
        "        img_noise[i, j] = np.random.randint(0, 256)\n",
        "\n",
        "    return img_noise\n",
        "\n",
        "img_noise = add_noise(imagine_originala, procent_zgomot=0.1)\n",
        "plt.imshow(img_noise, cmap='gray')\n",
        "plt.title('Imagine Zgomotoasa')\n",
        "plt.show()"
      ],
      "metadata": {
        "id": "JGdKZcxR-fLp"
      },
      "execution_count": null,
      "outputs": []
    },
    {
      "cell_type": "code",
      "source": [
        "# c\n",
        "from pgmpy.models import MarkovNetwork\n",
        "from pgmpy.factors.discrete import DiscreteFactor\n",
        "\n",
        "mrf = MarkovNetwork()\n",
        "\n",
        "pixeli = ['P{}'.format(i) for i in range(img_originala.size)]\n",
        "mrf.add_nodes_from(pixeli)\n",
        "\n",
        "linii, coloane = img_originala.shape\n",
        "for i in range(linii):\n",
        "    for j in range(coloane):\n",
        "        nod_curent = 'P{}'.format(i * coloane + j)\n",
        "\n",
        "        if i > 0:\n",
        "            nod_vecin_nord = 'P{}'.format((i - 1) * coloane + j)\n",
        "            mrf.add_edge(nod_curent, nod_vecin_nord)\n",
        "\n",
        "        if i < linii - 1:\n",
        "            nod_vecin_sud = 'P{}'.format((i + 1) * coloane + j)\n",
        "            mrf.add_edge(nod_curent, nod_vecin_sud)\n",
        "\n",
        "        if j > 0:\n",
        "            nod_vecin_vest = 'P{}'.format(i * coloane + j - 1)\n",
        "            mrf.add_edge(nod_curent, nod_vecin_vest)\n",
        "\n",
        "        if j < coloane - 1:\n",
        "            nod_vecin_est = 'P{}'.format(i * coloane + j + 1)\n",
        "            mrf.add_edge(nod_curent, nod_vecin_est)\n",
        "\n",
        "lambda_reg = 0.5\n",
        "pixeli_vecini = mrf.edges()\n",
        "\n",
        "for nod1, nod2 in pixeli_vecini:\n",
        "    factor = DiscreteFactor([nod1, nod2], [256, 256], np.exp(-lambda_reg * np.square(np.subtract.outer(np.arange(256), np.arange(256)))))\n",
        "    mrf.add_factors(factor)"
      ],
      "metadata": {
        "id": "M09cwbxG-h1C"
      },
      "execution_count": null,
      "outputs": []
    },
    {
      "cell_type": "code",
      "source": [
        "#d\n",
        "import numpy as np\n",
        "from pgmpy.models import MarkovNetwork\n",
        "from pgmpy.factors.discrete import DiscreteFactor\n",
        "\n",
        "mrf = MarkovNetwork()\n",
        "\n",
        "linii, coloane = 5, 5\n",
        "\n",
        "pixeli = ['P{}'.format(i * coloane + j) for i in range(linii) for j in range(coloane)]\n",
        "mrf.add_nodes_from(pixeli)\n",
        "\n",
        "for i in range(linii):\n",
        "    for j in range(coloane):\n",
        "        nod_curent = 'P{}'.format(i * coloane + j)\n",
        "\n",
        "        if i > 0:\n",
        "            nod_vecin_nord = 'P{}'.format((i - 1) * coloane + j)\n",
        "            mrf.add_edge(nod_curent, nod_vecin_nord)\n",
        "\n",
        "        if i < linii - 1:\n",
        "            nod_vecin_sud = 'P{}'.format((i + 1) * coloane + j)\n",
        "            mrf.add_edge(nod_curent, nod_vecin_sud)\n",
        "\n",
        "        if j > 0:\n",
        "            nod_vecin_vest = 'P{}'.format(i * coloane + j - 1)\n",
        "            mrf.add_edge(nod_curent, nod_vecin_vest)\n",
        "\n",
        "        if j < coloane - 1:\n",
        "            nod_vecin_est = 'P{}'.format(i * coloane + j + 1)\n",
        "            mrf.add_edge(nod_curent, nod_vecin_est)\n",
        "\n",
        "lambda_reg = 0.5\n",
        "for nod1, nod2 in mrf.edges():\n",
        "    factor = DiscreteFactor([nod1, nod2], [256, 256], np.exp(-lambda_reg * np.square(np.subtract.outer(np.arange(256), np.arange(256)))))\n",
        "    mrf.add_factors(factor)\n",
        "\n",
        "from pgmpy.inference import BeliefPropagation\n",
        "\n",
        "infer = BeliefPropagation(mrf)\n",
        "map_estimates = infer.map_query(variables=pixeli)\n",
        "\n",
        "imagine_estimata = np.zeros_like(imagine_zgomot)\n",
        "for i in range(nr_linii):\n",
        "    for j in range(nr_coloane):\n",
        "        pixel_id = 'P{}'.format(i * nr_coloane + j)\n",
        "        imagine_estimata[i, j] = map_estimates[pixel_id]\n",
        "\n",
        "plt.imshow(imagine_estimata, cmap='gray')\n",
        "plt.title('Imagine Estimata (Denoised)')\n",
        "plt.show()"
      ],
      "metadata": {
        "id": "O8OxkF3E-iiD"
      },
      "execution_count": null,
      "outputs": []
    }
  ]
}