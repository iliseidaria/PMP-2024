{
  "nbformat": 4,
  "nbformat_minor": 0,
  "metadata": {
    "colab": {
      "provenance": []
    },
    "kernelspec": {
      "name": "python3",
      "display_name": "Python 3"
    },
    "language_info": {
      "name": "python"
    },
    "widgets": {
      "application/vnd.jupyter.widget-state+json": {
        "f189ae97583b4a01973b2339ab48c807": {
          "model_module": "@jupyter-widgets/output",
          "model_name": "OutputModel",
          "model_module_version": "1.0.0",
          "state": {
            "_dom_classes": [],
            "_model_module": "@jupyter-widgets/output",
            "_model_module_version": "1.0.0",
            "_model_name": "OutputModel",
            "_view_count": null,
            "_view_module": "@jupyter-widgets/output",
            "_view_module_version": "1.0.0",
            "_view_name": "OutputView",
            "layout": "IPY_MODEL_2f6e909cc3e54545a9e5329ea22ec107",
            "msg_id": "",
            "outputs": [
              {
                "output_type": "display_data",
                "data": {
                  "text/plain": "Sampling chain 0, 0 divergences \u001b[32m━━━━━━━━━━━━━━━━━━━━━━━━━━━━━━━━━━━━━━━━\u001b[0m \u001b[35m100%\u001b[0m \u001b[36m0:00:00\u001b[0m / \u001b[33m0:00:13\u001b[0m\n",
                  "text/html": "<pre style=\"white-space:pre;overflow-x:auto;line-height:normal;font-family:Menlo,'DejaVu Sans Mono',consolas,'Courier New',monospace\">Sampling chain 0, 0 divergences <span style=\"color: #008000; text-decoration-color: #008000\">━━━━━━━━━━━━━━━━━━━━━━━━━━━━━━━━━━━━━━━━</span> <span style=\"color: #800080; text-decoration-color: #800080\">100%</span> <span style=\"color: #008080; text-decoration-color: #008080\">0:00:00</span> / <span style=\"color: #808000; text-decoration-color: #808000\">0:00:13</span>\n</pre>\n"
                },
                "metadata": {}
              }
            ]
          }
        },
        "2f6e909cc3e54545a9e5329ea22ec107": {
          "model_module": "@jupyter-widgets/base",
          "model_name": "LayoutModel",
          "model_module_version": "1.2.0",
          "state": {
            "_model_module": "@jupyter-widgets/base",
            "_model_module_version": "1.2.0",
            "_model_name": "LayoutModel",
            "_view_count": null,
            "_view_module": "@jupyter-widgets/base",
            "_view_module_version": "1.2.0",
            "_view_name": "LayoutView",
            "align_content": null,
            "align_items": null,
            "align_self": null,
            "border": null,
            "bottom": null,
            "display": null,
            "flex": null,
            "flex_flow": null,
            "grid_area": null,
            "grid_auto_columns": null,
            "grid_auto_flow": null,
            "grid_auto_rows": null,
            "grid_column": null,
            "grid_gap": null,
            "grid_row": null,
            "grid_template_areas": null,
            "grid_template_columns": null,
            "grid_template_rows": null,
            "height": null,
            "justify_content": null,
            "justify_items": null,
            "left": null,
            "margin": null,
            "max_height": null,
            "max_width": null,
            "min_height": null,
            "min_width": null,
            "object_fit": null,
            "object_position": null,
            "order": null,
            "overflow": null,
            "overflow_x": null,
            "overflow_y": null,
            "padding": null,
            "right": null,
            "top": null,
            "visibility": null,
            "width": null
          }
        },
        "defdb01139ed4845bbd538592394a981": {
          "model_module": "@jupyter-widgets/output",
          "model_name": "OutputModel",
          "model_module_version": "1.0.0",
          "state": {
            "_dom_classes": [],
            "_model_module": "@jupyter-widgets/output",
            "_model_module_version": "1.0.0",
            "_model_name": "OutputModel",
            "_view_count": null,
            "_view_module": "@jupyter-widgets/output",
            "_view_module_version": "1.0.0",
            "_view_name": "OutputView",
            "layout": "IPY_MODEL_292e745084e44c3ba189316ab1a91566",
            "msg_id": "",
            "outputs": [
              {
                "output_type": "display_data",
                "data": {
                  "text/plain": "Sampling chain 1, 0 divergences \u001b[32m━━━━━━━━━━━━━━━━━━━━━━━━━━━━━━━━━━━━━━━━\u001b[0m \u001b[35m100%\u001b[0m \u001b[36m0:00:00\u001b[0m / \u001b[33m0:00:15\u001b[0m\n",
                  "text/html": "<pre style=\"white-space:pre;overflow-x:auto;line-height:normal;font-family:Menlo,'DejaVu Sans Mono',consolas,'Courier New',monospace\">Sampling chain 1, 0 divergences <span style=\"color: #008000; text-decoration-color: #008000\">━━━━━━━━━━━━━━━━━━━━━━━━━━━━━━━━━━━━━━━━</span> <span style=\"color: #800080; text-decoration-color: #800080\">100%</span> <span style=\"color: #008080; text-decoration-color: #008080\">0:00:00</span> / <span style=\"color: #808000; text-decoration-color: #808000\">0:00:15</span>\n</pre>\n"
                },
                "metadata": {}
              }
            ]
          }
        },
        "292e745084e44c3ba189316ab1a91566": {
          "model_module": "@jupyter-widgets/base",
          "model_name": "LayoutModel",
          "model_module_version": "1.2.0",
          "state": {
            "_model_module": "@jupyter-widgets/base",
            "_model_module_version": "1.2.0",
            "_model_name": "LayoutModel",
            "_view_count": null,
            "_view_module": "@jupyter-widgets/base",
            "_view_module_version": "1.2.0",
            "_view_name": "LayoutView",
            "align_content": null,
            "align_items": null,
            "align_self": null,
            "border": null,
            "bottom": null,
            "display": null,
            "flex": null,
            "flex_flow": null,
            "grid_area": null,
            "grid_auto_columns": null,
            "grid_auto_flow": null,
            "grid_auto_rows": null,
            "grid_column": null,
            "grid_gap": null,
            "grid_row": null,
            "grid_template_areas": null,
            "grid_template_columns": null,
            "grid_template_rows": null,
            "height": null,
            "justify_content": null,
            "justify_items": null,
            "left": null,
            "margin": null,
            "max_height": null,
            "max_width": null,
            "min_height": null,
            "min_width": null,
            "object_fit": null,
            "object_position": null,
            "order": null,
            "overflow": null,
            "overflow_x": null,
            "overflow_y": null,
            "padding": null,
            "right": null,
            "top": null,
            "visibility": null,
            "width": null
          }
        },
        "85375b9b766d49cca4e909d08ed459f7": {
          "model_module": "@jupyter-widgets/output",
          "model_name": "OutputModel",
          "model_module_version": "1.0.0",
          "state": {
            "_dom_classes": [],
            "_model_module": "@jupyter-widgets/output",
            "_model_module_version": "1.0.0",
            "_model_name": "OutputModel",
            "_view_count": null,
            "_view_module": "@jupyter-widgets/output",
            "_view_module_version": "1.0.0",
            "_view_name": "OutputView",
            "layout": "IPY_MODEL_b29c3e97e90e49bea826b44db9155891",
            "msg_id": "",
            "outputs": [
              {
                "output_type": "display_data",
                "data": {
                  "text/plain": "Sampling chain 0, 0 divergences \u001b[32m━━━━━━━━━━━━━━━━━━━━━━━━━━━━━━━━━━━━━━━━\u001b[0m \u001b[35m100%\u001b[0m \u001b[36m0:00:00\u001b[0m / \u001b[33m0:00:20\u001b[0m\n",
                  "text/html": "<pre style=\"white-space:pre;overflow-x:auto;line-height:normal;font-family:Menlo,'DejaVu Sans Mono',consolas,'Courier New',monospace\">Sampling chain 0, 0 divergences <span style=\"color: #008000; text-decoration-color: #008000\">━━━━━━━━━━━━━━━━━━━━━━━━━━━━━━━━━━━━━━━━</span> <span style=\"color: #800080; text-decoration-color: #800080\">100%</span> <span style=\"color: #008080; text-decoration-color: #008080\">0:00:00</span> / <span style=\"color: #808000; text-decoration-color: #808000\">0:00:20</span>\n</pre>\n"
                },
                "metadata": {}
              }
            ]
          }
        },
        "b29c3e97e90e49bea826b44db9155891": {
          "model_module": "@jupyter-widgets/base",
          "model_name": "LayoutModel",
          "model_module_version": "1.2.0",
          "state": {
            "_model_module": "@jupyter-widgets/base",
            "_model_module_version": "1.2.0",
            "_model_name": "LayoutModel",
            "_view_count": null,
            "_view_module": "@jupyter-widgets/base",
            "_view_module_version": "1.2.0",
            "_view_name": "LayoutView",
            "align_content": null,
            "align_items": null,
            "align_self": null,
            "border": null,
            "bottom": null,
            "display": null,
            "flex": null,
            "flex_flow": null,
            "grid_area": null,
            "grid_auto_columns": null,
            "grid_auto_flow": null,
            "grid_auto_rows": null,
            "grid_column": null,
            "grid_gap": null,
            "grid_row": null,
            "grid_template_areas": null,
            "grid_template_columns": null,
            "grid_template_rows": null,
            "height": null,
            "justify_content": null,
            "justify_items": null,
            "left": null,
            "margin": null,
            "max_height": null,
            "max_width": null,
            "min_height": null,
            "min_width": null,
            "object_fit": null,
            "object_position": null,
            "order": null,
            "overflow": null,
            "overflow_x": null,
            "overflow_y": null,
            "padding": null,
            "right": null,
            "top": null,
            "visibility": null,
            "width": null
          }
        },
        "4c229641f52a4011a8dc000a2c50084e": {
          "model_module": "@jupyter-widgets/output",
          "model_name": "OutputModel",
          "model_module_version": "1.0.0",
          "state": {
            "_dom_classes": [],
            "_model_module": "@jupyter-widgets/output",
            "_model_module_version": "1.0.0",
            "_model_name": "OutputModel",
            "_view_count": null,
            "_view_module": "@jupyter-widgets/output",
            "_view_module_version": "1.0.0",
            "_view_name": "OutputView",
            "layout": "IPY_MODEL_d22439d35a344323b31a89b95b72de94",
            "msg_id": "",
            "outputs": [
              {
                "output_type": "display_data",
                "data": {
                  "text/plain": "Sampling chain 1, 0 divergences \u001b[32m━━━━━━━━━━━━━━━━━━━━━━━━━━━━━━━━━━━━━━━━\u001b[0m \u001b[35m100%\u001b[0m \u001b[36m0:00:00\u001b[0m / \u001b[33m0:00:18\u001b[0m\n",
                  "text/html": "<pre style=\"white-space:pre;overflow-x:auto;line-height:normal;font-family:Menlo,'DejaVu Sans Mono',consolas,'Courier New',monospace\">Sampling chain 1, 0 divergences <span style=\"color: #008000; text-decoration-color: #008000\">━━━━━━━━━━━━━━━━━━━━━━━━━━━━━━━━━━━━━━━━</span> <span style=\"color: #800080; text-decoration-color: #800080\">100%</span> <span style=\"color: #008080; text-decoration-color: #008080\">0:00:00</span> / <span style=\"color: #808000; text-decoration-color: #808000\">0:00:18</span>\n</pre>\n"
                },
                "metadata": {}
              }
            ]
          }
        },
        "d22439d35a344323b31a89b95b72de94": {
          "model_module": "@jupyter-widgets/base",
          "model_name": "LayoutModel",
          "model_module_version": "1.2.0",
          "state": {
            "_model_module": "@jupyter-widgets/base",
            "_model_module_version": "1.2.0",
            "_model_name": "LayoutModel",
            "_view_count": null,
            "_view_module": "@jupyter-widgets/base",
            "_view_module_version": "1.2.0",
            "_view_name": "LayoutView",
            "align_content": null,
            "align_items": null,
            "align_self": null,
            "border": null,
            "bottom": null,
            "display": null,
            "flex": null,
            "flex_flow": null,
            "grid_area": null,
            "grid_auto_columns": null,
            "grid_auto_flow": null,
            "grid_auto_rows": null,
            "grid_column": null,
            "grid_gap": null,
            "grid_row": null,
            "grid_template_areas": null,
            "grid_template_columns": null,
            "grid_template_rows": null,
            "height": null,
            "justify_content": null,
            "justify_items": null,
            "left": null,
            "margin": null,
            "max_height": null,
            "max_width": null,
            "min_height": null,
            "min_width": null,
            "object_fit": null,
            "object_position": null,
            "order": null,
            "overflow": null,
            "overflow_x": null,
            "overflow_y": null,
            "padding": null,
            "right": null,
            "top": null,
            "visibility": null,
            "width": null
          }
        }
      }
    }
  },
  "cells": [
    {
      "cell_type": "markdown",
      "source": [
        "Ce factori determinau preţul unui PC în vremea apariţiei acestora? Fişierul Prices.csv descrie un eşantion de 500 de vânzări de PC, colectat din 1993 până în 1995 în Statele Unite. Pe lângă preţul de vânzare, au fost colectate informaţii despre frecvenţa procesorului în MHz, dimensiunea hard diskului în MB, dimensiunea Ram în MB şi dacă producătorul este premium (de exemplu, IBM, COMPAQ). Să presupunem că se ia în considerare modelul de regresie y ∼ N (μ, σ), unde μ = α + β1x1 + β2x2, y este preţul de vânzare, x1 este frecvenţa procesorului şi x2 este logaritmul (natural) al mărimii hard diskului.\n",
        "1. Folosind distribuţii a priori slab informative asupra parametrilor α, β1, β2 şi σ, folosiţi PyMC pentru a simula un eşantion suficient de mare din distribuţia a posteriori."
      ],
      "metadata": {
        "id": "ujG0OMQ5xoZ-"
      }
    },
    {
      "cell_type": "code",
      "execution_count": 3,
      "metadata": {
        "colab": {
          "base_uri": "https://localhost:8080/",
          "height": 224,
          "referenced_widgets": [
            "f189ae97583b4a01973b2339ab48c807",
            "2f6e909cc3e54545a9e5329ea22ec107",
            "defdb01139ed4845bbd538592394a981",
            "292e745084e44c3ba189316ab1a91566"
          ]
        },
        "id": "5pnXQRQkxNEJ",
        "outputId": "caff146f-58ed-4e4b-bdb5-0395adab7b74"
      },
      "outputs": [
        {
          "output_type": "display_data",
          "data": {
            "text/plain": [
              "Sampling chain 1, 0 divergences \u001b[38;2;23;100;244m━━━━━━━━━━━━━━━━━━━━━━━━━\u001b[0m\u001b[38;2;23;100;244m╸\u001b[0m\u001b[38;5;237m━━━━━━━━━━━━━━\u001b[0m \u001b[35m 64%\u001b[0m \u001b[36m0:00:04\u001b[0m / \u001b[33m0:00:10\u001b[0m\n"
            ],
            "text/html": [
              "<pre style=\"white-space:pre;overflow-x:auto;line-height:normal;font-family:Menlo,'DejaVu Sans Mono',consolas,'Courier New',monospace\">Sampling chain 1, 0 divergences <span style=\"color: #1764f4; text-decoration-color: #1764f4\">━━━━━━━━━━━━━━━━━━━━━━━━━╸</span><span style=\"color: #3a3a3a; text-decoration-color: #3a3a3a\">━━━━━━━━━━━━━━</span> <span style=\"color: #800080; text-decoration-color: #800080\"> 64%</span> <span style=\"color: #008080; text-decoration-color: #008080\">0:00:04</span> / <span style=\"color: #808000; text-decoration-color: #808000\">0:00:10</span>\n",
              "</pre>\n"
            ]
          },
          "metadata": {}
        },
        {
          "output_type": "display_data",
          "data": {
            "text/plain": [],
            "text/html": [
              "<pre style=\"white-space:pre;overflow-x:auto;line-height:normal;font-family:Menlo,'DejaVu Sans Mono',consolas,'Courier New',monospace\"></pre>\n"
            ]
          },
          "metadata": {}
        },
        {
          "output_type": "stream",
          "name": "stdout",
          "text": [
            "          mean     sd   hdi_3%  hdi_97%  mcse_mean  mcse_sd  ess_bulk  \\\n",
            "alpha   38.990  9.756   19.833   56.510      0.195    0.140    2514.0   \n",
            "beta1   15.563  0.659   14.264   16.757      0.015    0.011    1869.0   \n",
            "beta2  224.819  6.211  213.466  236.801      0.143    0.101    1874.0   \n",
            "sigma  316.911  4.866  307.690  325.839      0.097    0.069    2487.0   \n",
            "\n",
            "       ess_tail  r_hat  \n",
            "alpha    2026.0    1.0  \n",
            "beta1    2357.0    1.0  \n",
            "beta2    2225.0    1.0  \n",
            "sigma    2449.0    1.0  \n"
          ]
        }
      ],
      "source": [
        "import pandas as pd\n",
        "import numpy as np\n",
        "import pymc as pm\n",
        "import matplotlib.pyplot as plt\n",
        "import arviz as az\n",
        "\n",
        "file_path = '/content/sample_data/Prices.csv'\n",
        "data = pd.read_csv(file_path)\n",
        "\n",
        "data['log_HardDrive'] = np.log(data['HardDrive'])\n",
        "\n",
        "y = data['Price']\n",
        "x1 = data['Speed']\n",
        "x2 = data['log_HardDrive']\n",
        "\n",
        "with pm.Model() as model:\n",
        "    # distrb a priori slab informative\n",
        "    alpha = pm.Normal('alpha', mu=0, sigma=10) # distrb normala gaussiana\n",
        "    beta1 = pm.Normal('beta1', mu=0, sigma=10)\n",
        "    beta2 = pm.Normal('beta2', mu=0, sigma=10)\n",
        "    sigma = pm.HalfNormal('sigma', sigma=10) # distrb normala pozitiva\n",
        "\n",
        "    # relatia de regresie liniara -> media modelului\n",
        "    mu = alpha + beta1 * x1 + beta2 * x2\n",
        "\n",
        "    # distrb observatiilor cu media [mu] si deviatia standard [sigma]\n",
        "    y_obs = pm.Normal('y_obs', mu=mu, sigma=sigma, observed=y)\n",
        "\n",
        "    # Sampling din distrb a posteriori (2000 de esantioane din care 1000 pentru tuning)\n",
        "    trace = pm.sample(2000, tune=1000, target_accept=0.9)\n",
        "\n",
        "print(az.summary(trace))"
      ]
    },
    {
      "cell_type": "markdown",
      "source": [
        "2. Obţineţi estimări de 95% HDI ale parametrilor β1 şi β2."
      ],
      "metadata": {
        "id": "9lrmAfHUxvtS"
      }
    },
    {
      "cell_type": "code",
      "source": [
        "# Calcularea HDI pentru beta1 si beta2\n",
        "beta1_hdi = az.hdi(trace.posterior['beta1'], hdi_prob=0.95)\n",
        "beta2_hdi = az.hdi(trace.posterior['beta2'], hdi_prob=0.95)\n",
        "\n",
        "#intervale HDI\n",
        "print(f\"95% HDI pentru beta1 (frecventa procesorului): {beta1_hdi}\")\n",
        "print(f\"95% HDI pentru beta2 (log dimensiunea hard disk-ului): {beta2_hdi}\")"
      ],
      "metadata": {
        "colab": {
          "base_uri": "https://localhost:8080/"
        },
        "id": "mQT1lUqjyr5J",
        "outputId": "ae12fb19-6b09-41b8-b38c-248b044ad955"
      },
      "execution_count": 4,
      "outputs": [
        {
          "output_type": "stream",
          "name": "stdout",
          "text": [
            "95% HDI pentru beta1 (frecvența procesorului): <xarray.Dataset> Size: 64B\n",
            "Dimensions:  (hdi: 2)\n",
            "Coordinates:\n",
            "  * hdi      (hdi) <U6 48B 'lower' 'higher'\n",
            "Data variables:\n",
            "    beta1    (hdi) float64 16B 14.2 16.8\n",
            "95% HDI pentru beta2 (log dimensiunea hard disk-ului): <xarray.Dataset> Size: 64B\n",
            "Dimensions:  (hdi: 2)\n",
            "Coordinates:\n",
            "  * hdi      (hdi) <U6 48B 'lower' 'higher'\n",
            "Data variables:\n",
            "    beta2    (hdi) float64 16B 212.7 237.1\n"
          ]
        }
      ]
    },
    {
      "cell_type": "markdown",
      "source": [
        "3. Pe baza rezultatelor obţinute, sunt frecvenţa procesorului şi mărimea hard diskului predictori utili ai preţului de vânzare?"
      ],
      "metadata": {
        "id": "dhZSHHPmxxET"
      }
    },
    {
      "cell_type": "code",
      "source": [
        "if 0 not in beta1_hdi:\n",
        "    print(\"Frecvența procesorului este un predictor semnificativ.\")\n",
        "else:\n",
        "    print(\"Frecvența procesorului NU este un predictor semnificativ.\")\n",
        "\n",
        "if 0 not in beta2_hdi:\n",
        "    print(\"Dimensiunea hard disk-ului este un predictor semnificativ.\")\n",
        "else:\n",
        "    print(\"Dimensiunea hard disk-ului NU este un predictor semnificativ.\")"
      ],
      "metadata": {
        "colab": {
          "base_uri": "https://localhost:8080/"
        },
        "id": "359ZQxgiyxZf",
        "outputId": "22f07a0c-50ac-4aa3-fcaf-828b23d7f8ba"
      },
      "execution_count": 5,
      "outputs": [
        {
          "output_type": "stream",
          "name": "stdout",
          "text": [
            "Frecvența procesorului este un predictor semnificativ.\n",
            "Dimensiunea hard disk-ului este un predictor semnificativ.\n"
          ]
        }
      ]
    },
    {
      "cell_type": "markdown",
      "source": [
        "4. Să presupunem acum că un consumator este interesat de un computer cu o frecvenţă de 33 MHz şi un hard disk de 540 MB. Simulaţi 5000 de extrageri din preţul de vânzare aşteptat (μ) şi construiţi un interval de 90% HDI pentru acest preţ."
      ],
      "metadata": {
        "id": "pd0E3Q8ux1PF"
      }
    },
    {
      "cell_type": "code",
      "source": [
        "# valori pt noul PC\n",
        "new_speed = 33\n",
        "new_harddrive = 540\n",
        "new_log_harddrive = np.log(new_harddrive)\n",
        "\n",
        "# simulare pret asteptat (mu)\n",
        "with model:\n",
        "    mu_pred = trace.posterior['alpha'] + trace.posterior['beta1'] * new_speed + trace.posterior['beta2'] * new_log_harddrive\n",
        "    mu_samples = mu_pred.values.flatten()\n",
        "\n",
        "# interval de credibilitate = 90% HDI\n",
        "mu_hdi = az.hdi(mu_samples, hdi_prob=0.90)\n",
        "print(f\"90% HDI pentru prețul așteptat: {mu_hdi}\")\n",
        "\n",
        "plt.hist(mu_samples, bins=50, density=True)\n",
        "plt.title(\"Distribuția prețului așteptat pentru noul PC\")\n",
        "plt.xlabel(\"Preț\")\n",
        "plt.ylabel(\"Densitate\")\n",
        "plt.show()"
      ],
      "metadata": {
        "colab": {
          "base_uri": "https://localhost:8080/",
          "height": 489
        },
        "id": "WE1W3_uMyzuj",
        "outputId": "911edef9-1a85-4fe7-cd54-3a212aac419b"
      },
      "execution_count": 6,
      "outputs": [
        {
          "output_type": "stream",
          "name": "stdout",
          "text": [
            "90% HDI pentru prețul așteptat: [1934.78258248 2001.43193488]\n"
          ]
        },
        {
          "output_type": "display_data",
          "data": {
            "text/plain": [
              "<Figure size 640x480 with 1 Axes>"
            ],
            "image/png": "[encoded data removed]"
          },
          "metadata": {}
        }
      ]
    },
    {
      "cell_type": "markdown",
      "source": [
        "5. În schimb, să presupunem că acest consumator doreşte să prezică preţul de vânzare al unui computer cu această frecvenţă şi mărime a hard disk-ului. Simulaţi 5000 de extrageri din distribuţia predictivă posterioară şi utilizaţi aceste extrageri simulate pentru a găsi un interval de predicţie de 90% HDI."
      ],
      "metadata": {
        "id": "pC1B8d2ax5gf"
      }
    },
    {
      "cell_type": "code",
      "source": [
        "import pymc as pm\n",
        "import arviz as az\n",
        "\n",
        "print(f\"PyMC version: {pm.__version__}\")\n",
        "print(f\"ArviZ version: {az.__version__}\")\n"
      ],
      "metadata": {
        "colab": {
          "base_uri": "https://localhost:8080/"
        },
        "id": "2lAdkoB3zSUR",
        "outputId": "16045a3f-7536-4b25-c2f1-b0018c8c8280"
      },
      "execution_count": 11,
      "outputs": [
        {
          "output_type": "stream",
          "name": "stdout",
          "text": [
            "PyMC version: 5.18.2\n",
            "ArviZ version: 0.20.0\n"
          ]
        }
      ]
    },
    {
      "cell_type": "code",
      "source": [
        "# simulare pret vanzare (y_pred)\n",
        "with model:\n",
        "    y_pred = pm.sample_posterior_predictive(trace, var_names=['y_obs'], samples=5000)['y_obs']\n",
        "\n",
        "# interval de 90% HDI pt pretul de vanzare\n",
        "y_hdi = az.hdi(y_pred, hdi_prob=0.90)\n",
        "print(f\"90% interval de predicție pentru prețul de vânzare: {y_hdi}\")\n",
        "\n",
        "# vizualizare distrb pret de vanzare\n",
        "plt.hist(y_pred, bins=50, density=True)\n",
        "plt.title(\"Distribuția prețului de vânzare pentru noul PC\")\n",
        "plt.xlabel(\"Preț\")\n",
        "plt.ylabel(\"Densitate\")\n",
        "plt.show()"
      ],
      "metadata": {
        "id": "MYcRrYPvy2ve"
      },
      "execution_count": null,
      "outputs": []
    },
    {
      "cell_type": "markdown",
      "source": [
        "6. Afectează în vreun fel preţul faptul că producătorul este premium? Justificaţi."
      ],
      "metadata": {
        "id": "AfJFCssPx8fr"
      }
    },
    {
      "cell_type": "code",
      "source": [
        "import pymc as pm\n",
        "import arviz as az\n",
        "import numpy as np\n",
        "\n",
        "x1 = data['Speed'].values\n",
        "x2 = data['log_HardDrive'].values\n",
        "\n",
        "# convertire variabila 'Premium' din 'yes'/'no' in 1/0\n",
        "premium = data['Premium'].map({'yes': 1, 'no': 0}).values\n",
        "\n",
        "y = data['Price'].values\n",
        "\n",
        "# model cu variabila Premium\n",
        "with pm.Model() as premium_model:\n",
        "    alpha = pm.Normal('alpha', mu=0, sigma=10)\n",
        "    beta1 = pm.Normal('beta1', mu=0, sigma=10)\n",
        "    beta2 = pm.Normal('beta2', mu=0, sigma=10)\n",
        "    beta3 = pm.Normal('beta3', mu=0, sigma=10)  # coeficient pt Premium\n",
        "    sigma = pm.HalfNormal('sigma', sigma=10)\n",
        "\n",
        "    #pm.Data pt a adauga datele in model\n",
        "    x1_data = pm.Data('x1', x1)\n",
        "    x2_data = pm.Data('x2', x2)\n",
        "    premium_data = pm.Data('premium', premium)\n",
        "\n",
        "    # creare model cu regresie liniară si variabila premium\n",
        "    mu = alpha + beta1 * x1_data + beta2 * x2_data + beta3 * premium_data\n",
        "\n",
        "    # obs (pretul)\n",
        "    y_obs = pm.Normal('y_obs', mu=mu, sigma=sigma, observed=y)\n",
        "\n",
        "    # sampling din distrb a posteriori\n",
        "    trace_premium = pm.sample(2000, tune=1000, target_accept=0.9)\n",
        "\n",
        "# rezumat coeficient pt Premium\n",
        "print(az.summary(trace_premium))\n",
        "\n",
        "# interval HDI pentru beta3 (coef Premium)\n",
        "beta3_hdi = az.hdi(trace_premium.posterior['beta3'], hdi_prob=0.95)\n",
        "print(f\"95% HDI pentru beta3 (Premium): {beta3_hdi}\")\n",
        "\n",
        "# verif semnificatie impact producator premium pt pret\n",
        "if 0 not in beta3_hdi:\n",
        "    print(\"Producătorul premium afectează semnificativ prețul.\")\n",
        "else:\n",
        "    print(\"Producătorul premium NU afectează semnificativ prețul.\")\n"
      ],
      "metadata": {
        "colab": {
          "base_uri": "https://localhost:8080/",
          "height": 380,
          "referenced_widgets": [
            "85375b9b766d49cca4e909d08ed459f7",
            "b29c3e97e90e49bea826b44db9155891",
            "4c229641f52a4011a8dc000a2c50084e",
            "d22439d35a344323b31a89b95b72de94"
          ]
        },
        "id": "etqhnbBLy45r",
        "outputId": "d94d5fb9-503c-4918-a93b-fec36f0d41d6"
      },
      "execution_count": 23,
      "outputs": [
        {
          "output_type": "display_data",
          "data": {
            "text/plain": [
              "Sampling chain 1, 0 divergences \u001b[38;2;23;100;244m━━━━━━━━━━━━━━━━━━━━━━━━━━━━━━━━━━━━━━\u001b[0m\u001b[38;2;23;100;244m╸\u001b[0m\u001b[38;5;237m━\u001b[0m \u001b[35m 97%\u001b[0m \u001b[36m0:00:01\u001b[0m / \u001b[33m0:00:18\u001b[0m\n"
            ],
            "text/html": [
              "<pre style=\"white-space:pre;overflow-x:auto;line-height:normal;font-family:Menlo,'DejaVu Sans Mono',consolas,'Courier New',monospace\">Sampling chain 1, 0 divergences <span style=\"color: #1764f4; text-decoration-color: #1764f4\">━━━━━━━━━━━━━━━━━━━━━━━━━━━━━━━━━━━━━━╸</span><span style=\"color: #3a3a3a; text-decoration-color: #3a3a3a\">━</span> <span style=\"color: #800080; text-decoration-color: #800080\"> 97%</span> <span style=\"color: #008080; text-decoration-color: #008080\">0:00:01</span> / <span style=\"color: #808000; text-decoration-color: #808000\">0:00:18</span>\n",
              "</pre>\n"
            ]
          },
          "metadata": {}
        },
        {
          "output_type": "display_data",
          "data": {
            "text/plain": [],
            "text/html": [
              "<pre style=\"white-space:pre;overflow-x:auto;line-height:normal;font-family:Menlo,'DejaVu Sans Mono',consolas,'Courier New',monospace\"></pre>\n"
            ]
          },
          "metadata": {}
        },
        {
          "output_type": "stream",
          "name": "stdout",
          "text": [
            "          mean     sd   hdi_3%  hdi_97%  mcse_mean  mcse_sd  ess_bulk  \\\n",
            "alpha   38.234  9.838   19.692   56.839      0.159    0.114    3824.0   \n",
            "beta1   15.489  0.686   14.172   16.753      0.013    0.010    2589.0   \n",
            "beta2  222.757  6.433  211.080  235.572      0.130    0.092    2440.0   \n",
            "beta3   19.828  9.999    0.155   37.890      0.161    0.120    3864.0   \n",
            "sigma  317.142  4.841  308.189  326.373      0.082    0.058    3403.0   \n",
            "\n",
            "       ess_tail  r_hat  \n",
            "alpha    2867.0    1.0  \n",
            "beta1    2530.0    1.0  \n",
            "beta2    2357.0    1.0  \n",
            "beta3    2608.0    1.0  \n",
            "sigma    2410.0    1.0  \n",
            "95% HDI pentru beta3 (Premium): <xarray.Dataset> Size: 64B\n",
            "Dimensions:  (hdi: 2)\n",
            "Coordinates:\n",
            "  * hdi      (hdi) <U6 48B 'lower' 'higher'\n",
            "Data variables:\n",
            "    beta3    (hdi) float64 16B -0.4199 39.06\n",
            "Producătorul premium afectează semnificativ prețul.\n"
          ]
        }
      ]
    }
  ]
}